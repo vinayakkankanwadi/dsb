{
 "cells": [
  {
   "cell_type": "code",
   "execution_count": 11,
   "metadata": {},
   "outputs": [],
   "source": [
    "import numpy as np\n",
    "import matplotlib.pyplot as plt\n",
    "import cv2\n",
    "%matplotlib inline\n",
    "import skimage.transform            \n",
    "import skimage.morphology           \n",
    "import os\n",
    "from skimage.io import imread, imshow, imread_collection, concatenate_images\n",
    "import pandas as pd    \n",
    "import re"
   ]
  },
  {
   "cell_type": "code",
   "execution_count": 12,
   "metadata": {
    "collapsed": true
   },
   "outputs": [],
   "source": [
    "def sorted_aphanumeric(data):\n",
    "    convert = lambda text: int(text) if text.isdigit() else text.lower()\n",
    "    alphanum_key = lambda key: [ convert(c) for c in re.split('([0-9]+)', key) ] \n",
    "    return sorted(data, key=alphanum_key)\n",
    "\n",
    "def rle_of_binary(x):\n",
    "    dots = np.where(x.T.flatten() == 1)[0]  \n",
    "    run_lengths = []\n",
    "    prev = -2\n",
    "    for b in dots:\n",
    "        if (b>prev+1): run_lengths.extend((b + 1, 0))\n",
    "        run_lengths[-1] += 1\n",
    "        prev = b\n",
    "    return run_lengths\n",
    "\n",
    "def mask_to_rle(mask, cutoff=.1, min_object_size=1.):\n",
    "    lab_mask = skimage.morphology.label(mask > cutoff)\n",
    "    \n",
    "    (mask_labels, mask_sizes) = np.unique(lab_mask, return_counts=True)\n",
    "    if (mask_sizes < min_object_size).any():\n",
    "        mask_labels = mask_labels[mask_sizes < min_object_size]\n",
    "        for n in mask_labels:\n",
    "            lab_mask[lab_mask == n] = 0\n",
    "        lab_mask = skimage.morphology.label(lab_mask > cutoff) \n",
    "        \n",
    "    for i in range(1, lab_mask.max() + 1):\n",
    "        yield rle_of_binary(lab_mask == i)\n",
    "        \n",
    "def rle_to_mask(rle, img_shape):\n",
    "    mask_rec = np.zeros(img_shape).flatten()\n",
    "    for n in range(len(rle)):\n",
    "        for i in range(0,len(rle[n]),2):\n",
    "            for j in range(rle[n][i+1]): \n",
    "                mask_rec[rle[n][i]-1+j] = 1\n",
    "    return mask_rec.reshape(img_shape[1], img_shape[0]).T"
   ]
  },
  {
   "cell_type": "code",
   "execution_count": 13,
   "metadata": {},
   "outputs": [
    {
     "name": "stdout",
     "output_type": "stream",
     "text": [
      "00071198d059ba7f5914a526d124d28e6d010c92466da21d4a04cd5413362552 , 6908 1 7161 8 7417 8 7672 9 7928 9 8184 9 8440 9 8696 9 8952 9 9209 8 9465 8 9722 7 9978 7 10235 6 10493 4 10752 1\n",
      "00071198d059ba7f5914a526d124d28e6d010c92466da21d4a04cd5413362552 , 36269 7 36523 11 36778 13 37033 15 37288 17 37543 18 37799 18 38054 19 38310 19 38565 20 38821 20 39077 20 39333 19 39589 19 39845 18 40101 18 40357 17 40614 15 40870 15 41127 13 41384 10 41641 8 41899 4\n",
      "00071198d059ba7f5914a526d124d28e6d010c92466da21d4a04cd5413362552 , 19919 6 20174 8 20429 10 20685 11 20941 12 21197 12 21453 13 21709 13 21965 13 22221 13 22477 13 22734 12 22990 12 23246 11 23503 9 23761 6\n",
      "00071198d059ba7f5914a526d124d28e6d010c92466da21d4a04cd5413362552 , 18671 6 18926 8 19181 9 19436 10 19691 11 19947 11 20203 12 20459 12 20715 12 20971 13 21227 14 21483 14 21739 14 21995 14 22252 13 22510 10 22768 7 23025 5 23284 2 23541 1\n",
      "00071198d059ba7f5914a526d124d28e6d010c92466da21d4a04cd5413362552 , 40158 3 40413 5 40669 5 40925 5 41182 3\n",
      "00071198d059ba7f5914a526d124d28e6d010c92466da21d4a04cd5413362552 , 58535 6 58791 10 59047 12 59303 16 59553 2 59558 18 59808 25 60064 26 60320 26 60575 27 60831 27 61087 27 61343 27 61599 27 61856 25 62112 25 62368 24 62625 22 62881 21 63138 14 63155 2 63396 11 63653 9 63910 5\n",
      "00071198d059ba7f5914a526d124d28e6d010c92466da21d4a04cd5413362552 , 31989 7 32244 12 32499 14 32754 15 33009 16 33265 16 33521 16 33777 16 34033 16 34289 16 34545 16 34801 16 35057 16 35313 16 35569 15 35826 14 36084 12 36341 11 36599 6 36607 1\n",
      "00071198d059ba7f5914a526d124d28e6d010c92466da21d4a04cd5413362552 , 11966 4 12220 9 12473 14 12729 15 12984 16 13238 19 13493 20 13749 20 14005 20 14262 19 14519 18 14776 16 15032 16 15288 15 15545 14 15802 13 16060 10 16323 1\n",
      "00071198d059ba7f5914a526d124d28e6d010c92466da21d4a04cd5413362552 , 58148 3 58403 5 58657 10 58912 13 59167 15 59422 17 59677 18 59933 18 60189 18 60445 18 60701 19 60957 19 61212 21 61469 20 61725 20 61981 19 62239 16 62497 14 62754 12 63011 9 63270 1\n",
      "00071198d059ba7f5914a526d124d28e6d010c92466da21d4a04cd5413362552 , 14825 3 15080 5 15336 5 15592 5 15849 3\n",
      "00071198d059ba7f5914a526d124d28e6d010c92466da21d4a04cd5413362552 , 39235 1 39489 6 39743 10 39998 19 40254 19 40509 20 40765 21 41020 22 41276 22 41532 22 41788 22 42044 22 42301 21 42557 21 42813 21 43069 21 43326 20 43582 20 43839 18 44096 17 44354 14 44611 12 44868 9\n",
      "00071198d059ba7f5914a526d124d28e6d010c92466da21d4a04cd5413362552 , 19903 5 20158 7 20413 8 20666 13 20921 16 21176 17 21432 17 21687 18 21943 18 22199 18 22455 18 22711 18 22968 17 23224 18 23480 18 23736 18 23992 16 24249 15 24505 15 24762 13 25019 6\n",
      "00071198d059ba7f5914a526d124d28e6d010c92466da21d4a04cd5413362552 , 31465 4 31719 7 31974 9 32230 9 32486 9 32742 9 32998 9 33255 8 33511 8 33768 6 34025 4\n",
      "00071198d059ba7f5914a526d124d28e6d010c92466da21d4a04cd5413362552 , 25560 5 25815 7 26070 8 26325 9 26581 9 26837 9 27093 9 27350 8 27606 7 27863 3\n",
      "00071198d059ba7f5914a526d124d28e6d010c92466da21d4a04cd5413362552 , 45553 2 45787 1 45808 1 46036 9 46063 1 46290 11 46319 1 46545 13 46575 1 46801 14 46830 2 47057 18 47085 3 47313 31 47569 31 47826 30 48084 29 48341 28 48598 27 48856 24 49114 22 49371 20 49629 18 49887 14 50149 5\n",
      "00071198d059ba7f5914a526d124d28e6d010c92466da21d4a04cd5413362552 , 34513 4 34768 6 35024 8 35279 10 35535 11 35791 12 36047 13 36302 15 36558 16 36814 16 37070 16 37326 17 37582 17 37838 17 38094 17 38350 17 38607 16 38863 15 39120 14 39377 12 39634 9 39895 2\n",
      "00071198d059ba7f5914a526d124d28e6d010c92466da21d4a04cd5413362552 , 42977 9 43229 16 43484 18 43740 19 43995 21 44251 21 44507 22 44763 22 45019 22 45276 21 45532 21 45788 20 46045 18 46301 18 46558 17 46815 15 47075 10\n",
      "00071198d059ba7f5914a526d124d28e6d010c92466da21d4a04cd5413362552 , 20706 5 20961 8 21216 10 21472 10 21727 12 21983 12 22239 12 22495 12 22751 12 23008 11 23264 11 23520 10 23777 8 24034 6\n",
      "00071198d059ba7f5914a526d124d28e6d010c92466da21d4a04cd5413362552 , 42264 6 42519 11 42773 15 43028 17 43284 18 43539 19 43795 20 44051 21 44307 22 44563 21 44819 21 45075 21 45331 21 45587 22 45843 22 46099 23 46355 23 46611 22 46867 22 47124 20 47381 19 47637 18 47893 17 48152 13 48412 6\n",
      "00071198d059ba7f5914a526d124d28e6d010c92466da21d4a04cd5413362552 , 9 10 266 9 522 9 779 8 1041 1\n",
      "00071198d059ba7f5914a526d124d28e6d010c92466da21d4a04cd5413362552 , 25578 10 25834 12 26089 13 26344 15 26598 17 26854 17 27110 18 27366 18 27623 17 27880 17 28136 17 28395 13 28652 11\n",
      "00071198d059ba7f5914a526d124d28e6d010c92466da21d4a04cd5413362552 , 37858 3 38113 5 38369 5 38625 5 38882 3\n",
      "00071198d059ba7f5914a526d124d28e6d010c92466da21d4a04cd5413362552 , 48129 2 48385 3 48641 4 48897 5 49153 5 49409 6 49665 6 49921 7 50177 7 50433 7 50689 7 50945 8 51201 8 51457 7 51713 7 51969 6 52225 5 52481 4\n",
      "00071198d059ba7f5914a526d124d28e6d010c92466da21d4a04cd5413362552 , 13021 2 13276 7 13528 12 13782 15 14038 16 14293 17 14548 19 14804 19 15060 19 15316 19 15572 19 15828 19 16085 18 16341 18 16597 17 16854 14 17112 11\n",
      "00071198d059ba7f5914a526d124d28e6d010c92466da21d4a04cd5413362552 , 16614 3 16869 5 17125 5 17381 5 17638 3\n",
      "00071198d059ba7f5914a526d124d28e6d010c92466da21d4a04cd5413362552 , 31964 6 32219 9 32474 11 32729 13 32985 13 33241 14 33497 14 33753 15 34009 15 34265 16 34521 16 34777 16 35033 16 35290 15 35546 15 35803 14 36060 13 36317 11 36577 7 36835 4\n",
      "00071198d059ba7f5914a526d124d28e6d010c92466da21d4a04cd5413362552 , 58625 7 58881 8 59137 9 59393 12 59649 13 59905 13 60161 14 60417 15 60673 15 60929 15 61185 15 61441 15 61697 15 61953 15 62209 15 62465 15 62721 14 62977 12 63233 11 63489 11 63745 9\n"
     ]
    }
   ],
   "source": [
    "train_dir = '../data/stage1_train/'\n",
    "img_dir_name = 'images'\n",
    "mask_dir_name = 'masks'\n",
    "for i,dir_name in enumerate(next(os.walk(train_dir))[1]):\n",
    "    img_dir = os.path.join(train_dir, dir_name, img_dir_name)\n",
    "    mask_dir = os.path.join(train_dir, dir_name, mask_dir_name) \n",
    "    dirlist = sorted_aphanumeric(os.listdir(mask_dir))\n",
    "    for mask_file in dirlist:\n",
    "        fl = train_dir+dir_name+'/masks/'+mask_file\n",
    "        #print(fl)\n",
    "        mask_ = cv2.imread(fl,0)\n",
    "        rle = list(mask_to_rle(mask_, min_object_size=1))\n",
    "        rle1 = pd.Series(rle).apply(lambda x: ' '.join(str(y) for y in x))\n",
    "        print(dir_name, ',', rle1[0])\n",
    "        #print(rle1[0])\n",
    "    break"
   ]
  },
  {
   "cell_type": "code",
   "execution_count": null,
   "metadata": {
    "collapsed": true
   },
   "outputs": [],
   "source": []
  }
 ],
 "metadata": {
  "anaconda-cloud": {},
  "kernelspec": {
   "display_name": "Python 3",
   "language": "python",
   "name": "python3"
  },
  "language_info": {
   "codemirror_mode": {
    "name": "ipython",
    "version": 3
   },
   "file_extension": ".py",
   "mimetype": "text/x-python",
   "name": "python",
   "nbconvert_exporter": "python",
   "pygments_lexer": "ipython3",
   "version": "3.6.3"
  }
 },
 "nbformat": 4,
 "nbformat_minor": 1
}
