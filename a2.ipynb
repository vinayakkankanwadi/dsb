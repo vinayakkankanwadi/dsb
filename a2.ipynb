{
 "cells": [
  {
   "cell_type": "code",
   "execution_count": 1,
   "metadata": {},
   "outputs": [
    {
     "name": "stderr",
     "output_type": "stream",
     "text": [
      "Using TensorFlow backend.\n"
     ]
    }
   ],
   "source": [
    "import os\n",
    "import sys\n",
    "import random\n",
    "import warnings\n",
    "\n",
    "import numpy as np\n",
    "import pandas as pd\n",
    "\n",
    "import matplotlib.pyplot as plt\n",
    "\n",
    "from tqdm import tqdm\n",
    "from itertools import chain\n",
    "from skimage.io import imread, imshow, imread_collection, concatenate_images\n",
    "from skimage.transform import resize\n",
    "from skimage.morphology import label\n",
    "\n",
    "from keras.models import Model, load_model\n",
    "from keras.layers import Input\n",
    "from keras.layers.core import Lambda\n",
    "from keras.layers.convolutional import Conv2D, Conv2DTranspose\n",
    "from keras.layers.pooling import MaxPooling2D\n",
    "from keras.layers.merge import concatenate\n",
    "from keras.callbacks import EarlyStopping, ModelCheckpoint\n",
    "from keras import backend as K\n",
    "\n",
    "import tensorflow as tf"
   ]
  },
  {
   "cell_type": "code",
   "execution_count": 2,
   "metadata": {
    "collapsed": true
   },
   "outputs": [],
   "source": [
    "# Set some parameters\n",
    "IMG_WIDTH = 128\n",
    "IMG_HEIGHT = 128\n",
    "IMG_CHANNELS = 3\n",
    "TRAIN_PATH = '../data/stage1_train/'\n",
    "TEST_PATH = '../data/stage1_test/'\n",
    "\n",
    "warnings.filterwarnings('ignore', category=UserWarning, module='skimage')\n",
    "seed = 42\n",
    "random.seed = seed\n",
    "np.random.seed = seed\n",
    "\n",
    "\n",
    "# Get train and test IDs\n",
    "train_ids = next(os.walk(TRAIN_PATH))[1]\n",
    "test_ids = next(os.walk(TEST_PATH))[1]"
   ]
  },
  {
   "cell_type": "code",
   "execution_count": 3,
   "metadata": {},
   "outputs": [
    {
     "name": "stdout",
     "output_type": "stream",
     "text": [
      "Getting and resizing train images and masks ... \n"
     ]
    },
    {
     "name": "stderr",
     "output_type": "stream",
     "text": [
      "100%|████████████████████████████████████████| 670/670 [03:49<00:00,  2.92it/s]\n"
     ]
    },
    {
     "name": "stdout",
     "output_type": "stream",
     "text": [
      "Getting and resizing test images ... \n"
     ]
    },
    {
     "name": "stderr",
     "output_type": "stream",
     "text": [
      "100%|██████████████████████████████████████████| 65/65 [00:01<00:00, 51.83it/s]\n"
     ]
    },
    {
     "name": "stdout",
     "output_type": "stream",
     "text": [
      "Done!\n"
     ]
    }
   ],
   "source": [
    "# Get and resize train images and masks\n",
    "X_train = np.zeros((len(train_ids), IMG_HEIGHT, IMG_WIDTH, IMG_CHANNELS), dtype=np.uint8)\n",
    "Y_train = np.zeros((len(train_ids), IMG_HEIGHT, IMG_WIDTH, 1), dtype=np.bool)\n",
    "print('Getting and resizing train images and masks ... ')\n",
    "sys.stdout.flush()\n",
    "for n, id_ in tqdm(enumerate(train_ids), total=len(train_ids)):\n",
    "    path = TRAIN_PATH + id_\n",
    "    img = imread(path + '/images/' + id_ + '.png')[:,:,:IMG_CHANNELS]\n",
    "    img = resize(img, (IMG_HEIGHT, IMG_WIDTH), mode='constant', preserve_range=True)\n",
    "    X_train[n] = img\n",
    "    mask = np.zeros((IMG_HEIGHT, IMG_WIDTH, 1), dtype=np.bool)\n",
    "    for mask_file in next(os.walk(path + '/masks/'))[2]:\n",
    "        mask_ = imread(path + '/masks/' + mask_file)\n",
    "        mask_ = np.expand_dims(resize(mask_, (IMG_HEIGHT, IMG_WIDTH), mode='constant', \n",
    "                                      preserve_range=True), axis=-1)\n",
    "        mask = np.maximum(mask, mask_)\n",
    "    Y_train[n] = mask\n",
    "\n",
    "# Get and resize test images\n",
    "X_test = np.zeros((len(test_ids), IMG_HEIGHT, IMG_WIDTH, IMG_CHANNELS), dtype=np.uint8)\n",
    "sizes_test = []\n",
    "print('Getting and resizing test images ... ')\n",
    "sys.stdout.flush()\n",
    "for n, id_ in tqdm(enumerate(test_ids), total=len(test_ids)):\n",
    "    path = TEST_PATH + id_\n",
    "    img = imread(path + '/images/' + id_ + '.png')[:,:,:IMG_CHANNELS]\n",
    "    sizes_test.append([img.shape[0], img.shape[1]])\n",
    "    img = resize(img, (IMG_HEIGHT, IMG_WIDTH), mode='constant', preserve_range=True)\n",
    "    X_test[n] = img\n",
    "\n",
    "print('Done!')"
   ]
  },
  {
   "cell_type": "code",
   "execution_count": 4,
   "metadata": {},
   "outputs": [
    {
     "data": {
      "image/png": "[encoded data removed]",
      "text/plain": [
       "<matplotlib.figure.Figure at 0x10ad45f8>"
      ]
     },
     "metadata": {},
     "output_type": "display_data"
    },
    {
     "data": {
      "image/png": "[encoded data removed]",
      "text/plain": [
       "<matplotlib.figure.Figure at 0x1359a550>"
      ]
     },
     "metadata": {},
     "output_type": "display_data"
    }
   ],
   "source": [
    "# Check if training data looks all right\n",
    "ix = random.randint(0, len(train_ids))\n",
    "imshow(X_train[ix])\n",
    "plt.show()\n",
    "imshow(np.squeeze(Y_train[ix]))\n",
    "plt.show()\n",
    "\n",
    "\n",
    "# Define IoU metric\n",
    "def mean_iou(y_true, y_pred):\n",
    "    prec = []\n",
    "    for t in np.arange(0.5, 1.0, 0.05):\n",
    "        y_pred_ = tf.to_int32(y_pred > t)\n",
    "        score, up_opt = tf.metrics.mean_iou(y_true, y_pred_, 2)\n",
    "        K.get_session().run(tf.local_variables_initializer())\n",
    "        with tf.control_dependencies([up_opt]):\n",
    "            score = tf.identity(score)\n",
    "        prec.append(score)\n",
    "    return K.mean(K.stack(prec), axis=0)"
   ]
  },
  {
   "cell_type": "code",
   "execution_count": 6,
   "metadata": {},
   "outputs": [
    {
     "name": "stdout",
     "output_type": "stream",
     "text": [
      "__________________________________________________________________________________________________\n",
      "Layer (type)                    Output Shape         Param #     Connected to                     \n",
      "==================================================================================================\n",
      "input_2 (InputLayer)            (None, 128, 128, 3)  0                                            \n",
      "__________________________________________________________________________________________________\n",
      "lambda_2 (Lambda)               (None, 128, 128, 3)  0           input_2[0][0]                    \n",
      "__________________________________________________________________________________________________\n",
      "conv2d_20 (Conv2D)              (None, 128, 128, 8)  224         lambda_2[0][0]                   \n",
      "__________________________________________________________________________________________________\n",
      "conv2d_21 (Conv2D)              (None, 128, 128, 8)  584         conv2d_20[0][0]                  \n",
      "__________________________________________________________________________________________________\n",
      "max_pooling2d_5 (MaxPooling2D)  (None, 64, 64, 8)    0           conv2d_21[0][0]                  \n",
      "__________________________________________________________________________________________________\n",
      "conv2d_22 (Conv2D)              (None, 64, 64, 16)   1168        max_pooling2d_5[0][0]            \n",
      "__________________________________________________________________________________________________\n",
      "conv2d_23 (Conv2D)              (None, 64, 64, 16)   2320        conv2d_22[0][0]                  \n",
      "__________________________________________________________________________________________________\n",
      "max_pooling2d_6 (MaxPooling2D)  (None, 32, 32, 16)   0           conv2d_23[0][0]                  \n",
      "__________________________________________________________________________________________________\n",
      "conv2d_24 (Conv2D)              (None, 32, 32, 32)   4640        max_pooling2d_6[0][0]            \n",
      "__________________________________________________________________________________________________\n",
      "conv2d_25 (Conv2D)              (None, 32, 32, 32)   9248        conv2d_24[0][0]                  \n",
      "__________________________________________________________________________________________________\n",
      "max_pooling2d_7 (MaxPooling2D)  (None, 16, 16, 32)   0           conv2d_25[0][0]                  \n",
      "__________________________________________________________________________________________________\n",
      "conv2d_26 (Conv2D)              (None, 16, 16, 64)   18496       max_pooling2d_7[0][0]            \n",
      "__________________________________________________________________________________________________\n",
      "conv2d_27 (Conv2D)              (None, 16, 16, 64)   36928       conv2d_26[0][0]                  \n",
      "__________________________________________________________________________________________________\n",
      "max_pooling2d_8 (MaxPooling2D)  (None, 8, 8, 64)     0           conv2d_27[0][0]                  \n",
      "__________________________________________________________________________________________________\n",
      "conv2d_28 (Conv2D)              (None, 8, 8, 128)    73856       max_pooling2d_8[0][0]            \n",
      "__________________________________________________________________________________________________\n",
      "conv2d_29 (Conv2D)              (None, 8, 8, 128)    147584      conv2d_28[0][0]                  \n",
      "__________________________________________________________________________________________________\n",
      "conv2d_transpose_5 (Conv2DTrans (None, 16, 16, 64)   32832       conv2d_29[0][0]                  \n",
      "__________________________________________________________________________________________________\n",
      "concatenate_5 (Concatenate)     (None, 16, 16, 128)  0           conv2d_transpose_5[0][0]         \n",
      "                                                                 conv2d_27[0][0]                  \n",
      "__________________________________________________________________________________________________\n",
      "conv2d_30 (Conv2D)              (None, 16, 16, 64)   73792       concatenate_5[0][0]              \n",
      "__________________________________________________________________________________________________\n",
      "conv2d_31 (Conv2D)              (None, 16, 16, 64)   36928       conv2d_30[0][0]                  \n",
      "__________________________________________________________________________________________________\n",
      "conv2d_transpose_6 (Conv2DTrans (None, 32, 32, 32)   8224        conv2d_31[0][0]                  \n",
      "__________________________________________________________________________________________________\n",
      "concatenate_6 (Concatenate)     (None, 32, 32, 64)   0           conv2d_transpose_6[0][0]         \n",
      "                                                                 conv2d_25[0][0]                  \n",
      "__________________________________________________________________________________________________\n",
      "conv2d_32 (Conv2D)              (None, 32, 32, 32)   18464       concatenate_6[0][0]              \n",
      "__________________________________________________________________________________________________\n",
      "conv2d_33 (Conv2D)              (None, 32, 32, 32)   9248        conv2d_32[0][0]                  \n",
      "__________________________________________________________________________________________________\n",
      "conv2d_transpose_7 (Conv2DTrans (None, 64, 64, 16)   2064        conv2d_33[0][0]                  \n",
      "__________________________________________________________________________________________________\n",
      "concatenate_7 (Concatenate)     (None, 64, 64, 32)   0           conv2d_transpose_7[0][0]         \n",
      "                                                                 conv2d_23[0][0]                  \n",
      "__________________________________________________________________________________________________\n",
      "conv2d_34 (Conv2D)              (None, 64, 64, 16)   4624        concatenate_7[0][0]              \n",
      "__________________________________________________________________________________________________\n",
      "conv2d_35 (Conv2D)              (None, 64, 64, 16)   2320        conv2d_34[0][0]                  \n",
      "__________________________________________________________________________________________________\n",
      "conv2d_transpose_8 (Conv2DTrans (None, 128, 128, 8)  520         conv2d_35[0][0]                  \n",
      "__________________________________________________________________________________________________\n",
      "concatenate_8 (Concatenate)     (None, 128, 128, 16) 0           conv2d_transpose_8[0][0]         \n",
      "                                                                 conv2d_21[0][0]                  \n",
      "__________________________________________________________________________________________________\n",
      "conv2d_36 (Conv2D)              (None, 128, 128, 8)  1160        concatenate_8[0][0]              \n",
      "__________________________________________________________________________________________________\n",
      "conv2d_37 (Conv2D)              (None, 128, 128, 8)  584         conv2d_36[0][0]                  \n",
      "__________________________________________________________________________________________________\n",
      "conv2d_38 (Conv2D)              (None, 128, 128, 1)  9           conv2d_37[0][0]                  \n",
      "==================================================================================================\n",
      "Total params: 485,817\n",
      "Trainable params: 485,817\n",
      "Non-trainable params: 0\n",
      "__________________________________________________________________________________________________\n"
     ]
    }
   ],
   "source": [
    "# Build U-Net model\n",
    "inputs = Input((IMG_HEIGHT, IMG_WIDTH, IMG_CHANNELS))\n",
    "s = Lambda(lambda x: x / 255) (inputs)\n",
    "\n",
    "c1 = Conv2D(8, (3, 3), activation='relu', padding='same') (s)\n",
    "c1 = Conv2D(8, (3, 3), activation='relu', padding='same') (c1)\n",
    "p1 = MaxPooling2D((2, 2)) (c1)\n",
    "\n",
    "c2 = Conv2D(16, (3, 3), activation='relu', padding='same') (p1)\n",
    "c2 = Conv2D(16, (3, 3), activation='relu', padding='same') (c2)\n",
    "p2 = MaxPooling2D((2, 2)) (c2)\n",
    "\n",
    "c3 = Conv2D(32, (3, 3), activation='relu', padding='same') (p2)\n",
    "c3 = Conv2D(32, (3, 3), activation='relu', padding='same') (c3)\n",
    "p3 = MaxPooling2D((2, 2)) (c3)\n",
    "\n",
    "c4 = Conv2D(64, (3, 3), activation='relu', padding='same') (p3)\n",
    "c4 = Conv2D(64, (3, 3), activation='relu', padding='same') (c4)\n",
    "p4 = MaxPooling2D(pool_size=(2, 2)) (c4)\n",
    "\n",
    "c5 = Conv2D(128, (3, 3), activation='relu', padding='same') (p4)\n",
    "c5 = Conv2D(128, (3, 3), activation='relu', padding='same') (c5)\n",
    "\n",
    "u6 = Conv2DTranspose(64, (2, 2), strides=(2, 2), padding='same') (c5)\n",
    "u6 = concatenate([u6, c4])\n",
    "c6 = Conv2D(64, (3, 3), activation='relu', padding='same') (u6)\n",
    "c6 = Conv2D(64, (3, 3), activation='relu', padding='same') (c6)\n",
    "\n",
    "u7 = Conv2DTranspose(32, (2, 2), strides=(2, 2), padding='same') (c6)\n",
    "u7 = concatenate([u7, c3])\n",
    "c7 = Conv2D(32, (3, 3), activation='relu', padding='same') (u7)\n",
    "c7 = Conv2D(32, (3, 3), activation='relu', padding='same') (c7)\n",
    "\n",
    "u8 = Conv2DTranspose(16, (2, 2), strides=(2, 2), padding='same') (c7)\n",
    "u8 = concatenate([u8, c2])\n",
    "c8 = Conv2D(16, (3, 3), activation='relu', padding='same') (u8)\n",
    "c8 = Conv2D(16, (3, 3), activation='relu', padding='same') (c8)\n",
    "\n",
    "u9 = Conv2DTranspose(8, (2, 2), strides=(2, 2), padding='same') (c8)\n",
    "u9 = concatenate([u9, c1], axis=3)\n",
    "c9 = Conv2D(8, (3, 3), activation='relu', padding='same') (u9)\n",
    "c9 = Conv2D(8, (3, 3), activation='relu', padding='same') (c9)\n",
    "\n",
    "outputs = Conv2D(1, (1, 1), activation='sigmoid') (c9)\n",
    "\n",
    "model = Model(inputs=[inputs], outputs=[outputs])\n",
    "model.compile(optimizer='adam', loss='binary_crossentropy', metrics=[mean_iou])\n",
    "model.summary()\n",
    "\n"
   ]
  },
  {
   "cell_type": "code",
   "execution_count": 7,
   "metadata": {},
   "outputs": [
    {
     "name": "stdout",
     "output_type": "stream",
     "text": [
      "Train on 536 samples, validate on 134 samples\n",
      "Epoch 1/10\n",
      "528/536 [============================>.] - ETA: 2:14 - loss: 0.7261 - mean_iou: 0.0000e+ - ETA: 1:24 - loss: 0.7091 - mean_iou: 0.1998   - ETA: 1:07 - loss: 0.7065 - mean_iou: 0.27 - ETA: 58s - loss: 0.7029 - mean_iou: 0.3073 - ETA: 52s - loss: 0.7005 - mean_iou: 0.328 - ETA: 48s - loss: 0.6986 - mean_iou: 0.344 - ETA: 45s - loss: 0.6971 - mean_iou: 0.356 - ETA: 42s - loss: 0.6959 - mean_iou: 0.365 - ETA: 40s - loss: 0.6951 - mean_iou: 0.371 - ETA: 39s - loss: 0.6943 - mean_iou: 0.376 - ETA: 37s - loss: 0.6936 - mean_iou: 0.380 - ETA: 36s - loss: 0.6928 - mean_iou: 0.384 - ETA: 35s - loss: 0.6918 - mean_iou: 0.387 - ETA: 34s - loss: 0.6910 - mean_iou: 0.389 - ETA: 33s - loss: 0.6902 - mean_iou: 0.391 - ETA: 32s - loss: 0.6894 - mean_iou: 0.393 - ETA: 31s - loss: 0.6889 - mean_iou: 0.395 - ETA: 30s - loss: 0.6884 - mean_iou: 0.396 - ETA: 29s - loss: 0.6868 - mean_iou: 0.398 - ETA: 28s - loss: 0.6858 - mean_iou: 0.399 - ETA: 28s - loss: 0.6850 - mean_iou: 0.400 - ETA: 27s - loss: 0.6835 - mean_iou: 0.401 - ETA: 26s - loss: 0.6816 - mean_iou: 0.402 - ETA: 25s - loss: 0.6765 - mean_iou: 0.403 - ETA: 25s - loss: 0.6737 - mean_iou: 0.403 - ETA: 24s - loss: 0.6709 - mean_iou: 0.404 - ETA: 23s - loss: 0.6734 - mean_iou: 0.405 - ETA: 23s - loss: 0.6690 - mean_iou: 0.405 - ETA: 22s - loss: 0.6636 - mean_iou: 0.406 - ETA: 21s - loss: 0.6611 - mean_iou: 0.406 - ETA: 21s - loss: 0.6585 - mean_iou: 0.407 - ETA: 20s - loss: 0.6553 - mean_iou: 0.407 - ETA: 19s - loss: 0.6534 - mean_iou: 0.408 - ETA: 19s - loss: 0.6517 - mean_iou: 0.408 - ETA: 18s - loss: 0.6500 - mean_iou: 0.409 - ETA: 18s - loss: 0.6467 - mean_iou: 0.409 - ETA: 17s - loss: 0.6420 - mean_iou: 0.409 - ETA: 16s - loss: 0.6400 - mean_iou: 0.410 - ETA: 16s - loss: 0.6369 - mean_iou: 0.410 - ETA: 15s - loss: 0.6322 - mean_iou: 0.411 - ETA: 15s - loss: 0.6304 - mean_iou: 0.411 - ETA: 14s - loss: 0.6276 - mean_iou: 0.411 - ETA: 13s - loss: 0.6248 - mean_iou: 0.411 - ETA: 13s - loss: 0.6202 - mean_iou: 0.412 - ETA: 12s - loss: 0.6165 - mean_iou: 0.412 - ETA: 12s - loss: 0.6162 - mean_iou: 0.412 - ETA: 11s - loss: 0.6131 - mean_iou: 0.413 - ETA: 11s - loss: 0.6083 - mean_iou: 0.413 - ETA: 10s - loss: 0.6054 - mean_iou: 0.413 - ETA: 9s - loss: 0.6019 - mean_iou: 0.413 - ETA: 9s - loss: 0.5984 - mean_iou: 0.41 - ETA: 8s - loss: 0.5950 - mean_iou: 0.41 - ETA: 8s - loss: 0.5912 - mean_iou: 0.41 - ETA: 7s - loss: 0.5897 - mean_iou: 0.41 - ETA: 6s - loss: 0.5863 - mean_iou: 0.41 - ETA: 6s - loss: 0.5842 - mean_iou: 0.41 - ETA: 5s - loss: 0.5830 - mean_iou: 0.41 - ETA: 5s - loss: 0.5847 - mean_iou: 0.41 - ETA: 4s - loss: 0.5821 - mean_iou: 0.41 - ETA: 4s - loss: 0.5800 - mean_iou: 0.41 - ETA: 3s - loss: 0.5783 - mean_iou: 0.41 - ETA: 2s - loss: 0.5759 - mean_iou: 0.41 - ETA: 2s - loss: 0.5738 - mean_iou: 0.41 - ETA: 1s - loss: 0.5718 - mean_iou: 0.41 - ETA: 1s - loss: 0.5698 - mean_iou: 0.41 - ETA: 0s - loss: 0.5674 - mean_iou: 0.4164\n",
      "Epoch 00001: val_loss improved from inf to 0.43225, saving model to model-dsbowl2018-1.h5\n",
      "536/536 [==============================] - 43s 81ms/step - loss: 0.5666 - mean_iou: 0.4165 - val_loss: 0.4322 - val_mean_iou: 0.4244\n",
      "Epoch 2/10\n",
      "528/536 [============================>.] - ETA: 37s - loss: 0.3690 - mean_iou: 0.424 - ETA: 36s - loss: 0.3787 - mean_iou: 0.424 - ETA: 36s - loss: 0.3762 - mean_iou: 0.425 - ETA: 36s - loss: 0.4134 - mean_iou: 0.425 - ETA: 35s - loss: 0.4207 - mean_iou: 0.425 - ETA: 34s - loss: 0.4183 - mean_iou: 0.425 - ETA: 33s - loss: 0.4381 - mean_iou: 0.425 - ETA: 32s - loss: 0.4503 - mean_iou: 0.425 - ETA: 32s - loss: 0.4503 - mean_iou: 0.425 - ETA: 31s - loss: 0.4435 - mean_iou: 0.425 - ETA: 30s - loss: 0.4434 - mean_iou: 0.425 - ETA: 30s - loss: 0.4463 - mean_iou: 0.425 - ETA: 29s - loss: 0.4534 - mean_iou: 0.424 - ETA: 29s - loss: 0.4534 - mean_iou: 0.424 - ETA: 28s - loss: 0.4513 - mean_iou: 0.424 - ETA: 27s - loss: 0.4510 - mean_iou: 0.424 - ETA: 27s - loss: 0.4525 - mean_iou: 0.424 - ETA: 26s - loss: 0.4478 - mean_iou: 0.424 - ETA: 26s - loss: 0.4531 - mean_iou: 0.424 - ETA: 25s - loss: 0.4557 - mean_iou: 0.424 - ETA: 25s - loss: 0.4554 - mean_iou: 0.424 - ETA: 24s - loss: 0.4552 - mean_iou: 0.424 - ETA: 23s - loss: 0.4529 - mean_iou: 0.424 - ETA: 23s - loss: 0.4494 - mean_iou: 0.424 - ETA: 22s - loss: 0.4484 - mean_iou: 0.424 - ETA: 22s - loss: 0.4497 - mean_iou: 0.424 - ETA: 21s - loss: 0.4476 - mean_iou: 0.424 - ETA: 21s - loss: 0.4485 - mean_iou: 0.424 - ETA: 20s - loss: 0.4485 - mean_iou: 0.424 - ETA: 20s - loss: 0.4456 - mean_iou: 0.424 - ETA: 19s - loss: 0.4458 - mean_iou: 0.424 - ETA: 19s - loss: 0.4408 - mean_iou: 0.424 - ETA: 18s - loss: 0.4384 - mean_iou: 0.424 - ETA: 17s - loss: 0.4383 - mean_iou: 0.424 - ETA: 17s - loss: 0.4413 - mean_iou: 0.424 - ETA: 16s - loss: 0.4409 - mean_iou: 0.424 - ETA: 16s - loss: 0.4371 - mean_iou: 0.424 - ETA: 15s - loss: 0.4344 - mean_iou: 0.424 - ETA: 15s - loss: 0.4340 - mean_iou: 0.424 - ETA: 14s - loss: 0.4332 - mean_iou: 0.424 - ETA: 14s - loss: 0.4321 - mean_iou: 0.424 - ETA: 13s - loss: 0.4315 - mean_iou: 0.424 - ETA: 13s - loss: 0.4323 - mean_iou: 0.424 - ETA: 12s - loss: 0.4325 - mean_iou: 0.424 - ETA: 11s - loss: 0.4320 - mean_iou: 0.424 - ETA: 11s - loss: 0.4323 - mean_iou: 0.424 - ETA: 10s - loss: 0.4322 - mean_iou: 0.424 - ETA: 10s - loss: 0.4322 - mean_iou: 0.424 - ETA: 9s - loss: 0.4316 - mean_iou: 0.424 - ETA: 9s - loss: 0.4287 - mean_iou: 0.42 - ETA: 8s - loss: 0.4270 - mean_iou: 0.42 - ETA: 8s - loss: 0.4234 - mean_iou: 0.42 - ETA: 7s - loss: 0.4243 - mean_iou: 0.42 - ETA: 7s - loss: 0.4227 - mean_iou: 0.42 - ETA: 6s - loss: 0.4225 - mean_iou: 0.42 - ETA: 5s - loss: 0.4204 - mean_iou: 0.42 - ETA: 5s - loss: 0.4171 - mean_iou: 0.42 - ETA: 4s - loss: 0.4170 - mean_iou: 0.42 - ETA: 4s - loss: 0.4172 - mean_iou: 0.42 - ETA: 3s - loss: 0.4169 - mean_iou: 0.42 - ETA: 3s - loss: 0.4163 - mean_iou: 0.42 - ETA: 2s - loss: 0.4173 - mean_iou: 0.42 - ETA: 2s - loss: 0.4154 - mean_iou: 0.42 - ETA: 1s - loss: 0.4140 - mean_iou: 0.42 - ETA: 1s - loss: 0.4141 - mean_iou: 0.42 - ETA: 0s - loss: 0.4133 - mean_iou: 0.4243\n",
      "Epoch 00002: val_loss improved from 0.43225 to 0.33519, saving model to model-dsbowl2018-1.h5\n",
      "536/536 [==============================] - 40s 75ms/step - loss: 0.4116 - mean_iou: 0.4243 - val_loss: 0.3352 - val_mean_iou: 0.4240\n",
      "Epoch 3/10\n"
     ]
    },
    {
     "name": "stdout",
     "output_type": "stream",
     "text": [
      "528/536 [============================>.] - ETA: 34s - loss: 0.3541 - mean_iou: 0.424 - ETA: 35s - loss: 0.3291 - mean_iou: 0.424 - ETA: 34s - loss: 0.3647 - mean_iou: 0.424 - ETA: 34s - loss: 0.3827 - mean_iou: 0.424 - ETA: 33s - loss: 0.3895 - mean_iou: 0.424 - ETA: 33s - loss: 0.3682 - mean_iou: 0.424 - ETA: 32s - loss: 0.3534 - mean_iou: 0.424 - ETA: 32s - loss: 0.3762 - mean_iou: 0.424 - ETA: 32s - loss: 0.3914 - mean_iou: 0.424 - ETA: 31s - loss: 0.3811 - mean_iou: 0.424 - ETA: 31s - loss: 0.3854 - mean_iou: 0.423 - ETA: 30s - loss: 0.3770 - mean_iou: 0.423 - ETA: 30s - loss: 0.3826 - mean_iou: 0.423 - ETA: 29s - loss: 0.3807 - mean_iou: 0.423 - ETA: 29s - loss: 0.3789 - mean_iou: 0.423 - ETA: 28s - loss: 0.3717 - mean_iou: 0.423 - ETA: 27s - loss: 0.3747 - mean_iou: 0.423 - ETA: 27s - loss: 0.3745 - mean_iou: 0.423 - ETA: 26s - loss: 0.3720 - mean_iou: 0.423 - ETA: 26s - loss: 0.3760 - mean_iou: 0.423 - ETA: 25s - loss: 0.3754 - mean_iou: 0.423 - ETA: 24s - loss: 0.3742 - mean_iou: 0.423 - ETA: 24s - loss: 0.3731 - mean_iou: 0.423 - ETA: 23s - loss: 0.3755 - mean_iou: 0.423 - ETA: 23s - loss: 0.3775 - mean_iou: 0.423 - ETA: 22s - loss: 0.3719 - mean_iou: 0.423 - ETA: 22s - loss: 0.3724 - mean_iou: 0.423 - ETA: 21s - loss: 0.3685 - mean_iou: 0.423 - ETA: 20s - loss: 0.3623 - mean_iou: 0.423 - ETA: 20s - loss: 0.3660 - mean_iou: 0.423 - ETA: 19s - loss: 0.3620 - mean_iou: 0.423 - ETA: 19s - loss: 0.3583 - mean_iou: 0.423 - ETA: 18s - loss: 0.3603 - mean_iou: 0.423 - ETA: 18s - loss: 0.3610 - mean_iou: 0.423 - ETA: 17s - loss: 0.3615 - mean_iou: 0.423 - ETA: 16s - loss: 0.3616 - mean_iou: 0.423 - ETA: 16s - loss: 0.3620 - mean_iou: 0.423 - ETA: 15s - loss: 0.3589 - mean_iou: 0.423 - ETA: 15s - loss: 0.3567 - mean_iou: 0.423 - ETA: 14s - loss: 0.3565 - mean_iou: 0.423 - ETA: 14s - loss: 0.3566 - mean_iou: 0.423 - ETA: 13s - loss: 0.3570 - mean_iou: 0.423 - ETA: 13s - loss: 0.3552 - mean_iou: 0.423 - ETA: 12s - loss: 0.3553 - mean_iou: 0.423 - ETA: 11s - loss: 0.3539 - mean_iou: 0.423 - ETA: 11s - loss: 0.3529 - mean_iou: 0.423 - ETA: 10s - loss: 0.3524 - mean_iou: 0.423 - ETA: 10s - loss: 0.3494 - mean_iou: 0.423 - ETA: 9s - loss: 0.3476 - mean_iou: 0.423 - ETA: 9s - loss: 0.3456 - mean_iou: 0.42 - ETA: 8s - loss: 0.3437 - mean_iou: 0.42 - ETA: 8s - loss: 0.3432 - mean_iou: 0.42 - ETA: 7s - loss: 0.3416 - mean_iou: 0.42 - ETA: 7s - loss: 0.3412 - mean_iou: 0.42 - ETA: 6s - loss: 0.3399 - mean_iou: 0.42 - ETA: 5s - loss: 0.3374 - mean_iou: 0.42 - ETA: 5s - loss: 0.3368 - mean_iou: 0.42 - ETA: 4s - loss: 0.3358 - mean_iou: 0.42 - ETA: 4s - loss: 0.3360 - mean_iou: 0.42 - ETA: 3s - loss: 0.3364 - mean_iou: 0.42 - ETA: 3s - loss: 0.3341 - mean_iou: 0.42 - ETA: 2s - loss: 0.3310 - mean_iou: 0.42 - ETA: 2s - loss: 0.3297 - mean_iou: 0.42 - ETA: 1s - loss: 0.3292 - mean_iou: 0.42 - ETA: 1s - loss: 0.3270 - mean_iou: 0.42 - ETA: 0s - loss: 0.3254 - mean_iou: 0.4234\n",
      "Epoch 00003: val_loss improved from 0.33519 to 0.25257, saving model to model-dsbowl2018-1.h5\n",
      "536/536 [==============================] - 40s 75ms/step - loss: 0.3231 - mean_iou: 0.4234 - val_loss: 0.2526 - val_mean_iou: 0.4239\n",
      "Epoch 4/10\n",
      "528/536 [============================>.] - ETA: 35s - loss: 0.3221 - mean_iou: 0.424 - ETA: 34s - loss: 0.3585 - mean_iou: 0.424 - ETA: 34s - loss: 0.3330 - mean_iou: 0.423 - ETA: 34s - loss: 0.3158 - mean_iou: 0.423 - ETA: 33s - loss: 0.2966 - mean_iou: 0.423 - ETA: 32s - loss: 0.2887 - mean_iou: 0.423 - ETA: 32s - loss: 0.2835 - mean_iou: 0.423 - ETA: 31s - loss: 0.2808 - mean_iou: 0.423 - ETA: 31s - loss: 0.2843 - mean_iou: 0.423 - ETA: 30s - loss: 0.2776 - mean_iou: 0.423 - ETA: 30s - loss: 0.2736 - mean_iou: 0.423 - ETA: 29s - loss: 0.2720 - mean_iou: 0.423 - ETA: 29s - loss: 0.2759 - mean_iou: 0.423 - ETA: 29s - loss: 0.2731 - mean_iou: 0.423 - ETA: 28s - loss: 0.2749 - mean_iou: 0.423 - ETA: 28s - loss: 0.2771 - mean_iou: 0.423 - ETA: 27s - loss: 0.2737 - mean_iou: 0.423 - ETA: 27s - loss: 0.2809 - mean_iou: 0.423 - ETA: 26s - loss: 0.2776 - mean_iou: 0.423 - ETA: 25s - loss: 0.2733 - mean_iou: 0.423 - ETA: 25s - loss: 0.2672 - mean_iou: 0.423 - ETA: 24s - loss: 0.2740 - mean_iou: 0.423 - ETA: 24s - loss: 0.2704 - mean_iou: 0.423 - ETA: 23s - loss: 0.2636 - mean_iou: 0.423 - ETA: 23s - loss: 0.2609 - mean_iou: 0.423 - ETA: 22s - loss: 0.2564 - mean_iou: 0.423 - ETA: 21s - loss: 0.2581 - mean_iou: 0.423 - ETA: 21s - loss: 0.2572 - mean_iou: 0.423 - ETA: 20s - loss: 0.2562 - mean_iou: 0.424 - ETA: 20s - loss: 0.2522 - mean_iou: 0.424 - ETA: 19s - loss: 0.2523 - mean_iou: 0.424 - ETA: 19s - loss: 0.2519 - mean_iou: 0.424 - ETA: 18s - loss: 0.2505 - mean_iou: 0.424 - ETA: 18s - loss: 0.2494 - mean_iou: 0.424 - ETA: 17s - loss: 0.2502 - mean_iou: 0.424 - ETA: 16s - loss: 0.2499 - mean_iou: 0.424 - ETA: 16s - loss: 0.2509 - mean_iou: 0.424 - ETA: 15s - loss: 0.2509 - mean_iou: 0.424 - ETA: 15s - loss: 0.2481 - mean_iou: 0.424 - ETA: 14s - loss: 0.2479 - mean_iou: 0.425 - ETA: 14s - loss: 0.2442 - mean_iou: 0.425 - ETA: 13s - loss: 0.2430 - mean_iou: 0.425 - ETA: 13s - loss: 0.2415 - mean_iou: 0.425 - ETA: 12s - loss: 0.2399 - mean_iou: 0.425 - ETA: 12s - loss: 0.2392 - mean_iou: 0.425 - ETA: 11s - loss: 0.2377 - mean_iou: 0.425 - ETA: 11s - loss: 0.2368 - mean_iou: 0.426 - ETA: 10s - loss: 0.2364 - mean_iou: 0.426 - ETA: 10s - loss: 0.2376 - mean_iou: 0.426 - ETA: 9s - loss: 0.2351 - mean_iou: 0.426 - ETA: 8s - loss: 0.2330 - mean_iou: 0.42 - ETA: 8s - loss: 0.2308 - mean_iou: 0.42 - ETA: 7s - loss: 0.2313 - mean_iou: 0.42 - ETA: 7s - loss: 0.2290 - mean_iou: 0.42 - ETA: 6s - loss: 0.2279 - mean_iou: 0.42 - ETA: 6s - loss: 0.2282 - mean_iou: 0.42 - ETA: 5s - loss: 0.2278 - mean_iou: 0.42 - ETA: 5s - loss: 0.2257 - mean_iou: 0.42 - ETA: 4s - loss: 0.2244 - mean_iou: 0.42 - ETA: 3s - loss: 0.2217 - mean_iou: 0.42 - ETA: 3s - loss: 0.2214 - mean_iou: 0.42 - ETA: 2s - loss: 0.2201 - mean_iou: 0.42 - ETA: 2s - loss: 0.2199 - mean_iou: 0.42 - ETA: 1s - loss: 0.2185 - mean_iou: 0.42 - ETA: 1s - loss: 0.2183 - mean_iou: 0.43 - ETA: 0s - loss: 0.2178 - mean_iou: 0.4303\n",
      "Epoch 00004: val_loss improved from 0.25257 to 0.15882, saving model to model-dsbowl2018-1.h5\n",
      "536/536 [==============================] - 41s 77ms/step - loss: 0.2175 - mean_iou: 0.4306 - val_loss: 0.1588 - val_mean_iou: 0.4519\n",
      "Epoch 5/10\n"
     ]
    },
    {
     "name": "stdout",
     "output_type": "stream",
     "text": [
      "528/536 [============================>.] - ETA: 42s - loss: 0.1215 - mean_iou: 0.456 - ETA: 40s - loss: 0.1616 - mean_iou: 0.457 - ETA: 38s - loss: 0.1874 - mean_iou: 0.457 - ETA: 37s - loss: 0.1788 - mean_iou: 0.457 - ETA: 36s - loss: 0.1730 - mean_iou: 0.457 - ETA: 35s - loss: 0.1808 - mean_iou: 0.458 - ETA: 34s - loss: 0.1787 - mean_iou: 0.458 - ETA: 33s - loss: 0.1785 - mean_iou: 0.458 - ETA: 33s - loss: 0.1771 - mean_iou: 0.459 - ETA: 32s - loss: 0.1752 - mean_iou: 0.459 - ETA: 31s - loss: 0.1707 - mean_iou: 0.459 - ETA: 31s - loss: 0.1676 - mean_iou: 0.460 - ETA: 30s - loss: 0.1672 - mean_iou: 0.460 - ETA: 29s - loss: 0.1723 - mean_iou: 0.460 - ETA: 29s - loss: 0.1754 - mean_iou: 0.460 - ETA: 28s - loss: 0.1762 - mean_iou: 0.461 - ETA: 28s - loss: 0.1769 - mean_iou: 0.461 - ETA: 27s - loss: 0.1788 - mean_iou: 0.461 - ETA: 27s - loss: 0.1740 - mean_iou: 0.462 - ETA: 26s - loss: 0.1730 - mean_iou: 0.462 - ETA: 25s - loss: 0.1739 - mean_iou: 0.462 - ETA: 25s - loss: 0.1754 - mean_iou: 0.462 - ETA: 24s - loss: 0.1779 - mean_iou: 0.463 - ETA: 24s - loss: 0.1802 - mean_iou: 0.463 - ETA: 23s - loss: 0.1793 - mean_iou: 0.463 - ETA: 23s - loss: 0.1805 - mean_iou: 0.463 - ETA: 22s - loss: 0.1800 - mean_iou: 0.464 - ETA: 22s - loss: 0.1825 - mean_iou: 0.464 - ETA: 21s - loss: 0.1812 - mean_iou: 0.464 - ETA: 20s - loss: 0.1825 - mean_iou: 0.464 - ETA: 20s - loss: 0.1813 - mean_iou: 0.464 - ETA: 19s - loss: 0.1806 - mean_iou: 0.465 - ETA: 19s - loss: 0.1812 - mean_iou: 0.465 - ETA: 18s - loss: 0.1794 - mean_iou: 0.465 - ETA: 18s - loss: 0.1794 - mean_iou: 0.465 - ETA: 17s - loss: 0.1805 - mean_iou: 0.466 - ETA: 16s - loss: 0.1785 - mean_iou: 0.466 - ETA: 16s - loss: 0.1765 - mean_iou: 0.466 - ETA: 15s - loss: 0.1763 - mean_iou: 0.466 - ETA: 15s - loss: 0.1762 - mean_iou: 0.467 - ETA: 14s - loss: 0.1782 - mean_iou: 0.467 - ETA: 13s - loss: 0.1764 - mean_iou: 0.467 - ETA: 13s - loss: 0.1761 - mean_iou: 0.467 - ETA: 12s - loss: 0.1750 - mean_iou: 0.468 - ETA: 12s - loss: 0.1742 - mean_iou: 0.468 - ETA: 11s - loss: 0.1757 - mean_iou: 0.468 - ETA: 11s - loss: 0.1738 - mean_iou: 0.468 - ETA: 10s - loss: 0.1734 - mean_iou: 0.469 - ETA: 9s - loss: 0.1727 - mean_iou: 0.469 - ETA: 9s - loss: 0.1740 - mean_iou: 0.46 - ETA: 8s - loss: 0.1730 - mean_iou: 0.46 - ETA: 8s - loss: 0.1742 - mean_iou: 0.47 - ETA: 7s - loss: 0.1747 - mean_iou: 0.47 - ETA: 7s - loss: 0.1742 - mean_iou: 0.47 - ETA: 6s - loss: 0.1735 - mean_iou: 0.47 - ETA: 6s - loss: 0.1727 - mean_iou: 0.47 - ETA: 5s - loss: 0.1728 - mean_iou: 0.47 - ETA: 4s - loss: 0.1723 - mean_iou: 0.47 - ETA: 4s - loss: 0.1715 - mean_iou: 0.47 - ETA: 3s - loss: 0.1712 - mean_iou: 0.47 - ETA: 3s - loss: 0.1715 - mean_iou: 0.47 - ETA: 2s - loss: 0.1710 - mean_iou: 0.47 - ETA: 2s - loss: 0.1704 - mean_iou: 0.47 - ETA: 1s - loss: 0.1708 - mean_iou: 0.47 - ETA: 1s - loss: 0.1709 - mean_iou: 0.47 - ETA: 0s - loss: 0.1702 - mean_iou: 0.4737\n",
      "Epoch 00005: val_loss improved from 0.15882 to 0.14219, saving model to model-dsbowl2018-1.h5\n",
      "536/536 [==============================] - 41s 76ms/step - loss: 0.1697 - mean_iou: 0.4740 - val_loss: 0.1422 - val_mean_iou: 0.4963\n",
      "Epoch 6/10\n",
      "528/536 [============================>.] - ETA: 35s - loss: 0.1253 - mean_iou: 0.500 - ETA: 34s - loss: 0.1286 - mean_iou: 0.500 - ETA: 34s - loss: 0.1637 - mean_iou: 0.500 - ETA: 33s - loss: 0.1556 - mean_iou: 0.501 - ETA: 33s - loss: 0.1559 - mean_iou: 0.501 - ETA: 33s - loss: 0.1525 - mean_iou: 0.501 - ETA: 32s - loss: 0.1647 - mean_iou: 0.501 - ETA: 32s - loss: 0.1621 - mean_iou: 0.502 - ETA: 32s - loss: 0.1562 - mean_iou: 0.502 - ETA: 32s - loss: 0.1572 - mean_iou: 0.502 - ETA: 31s - loss: 0.1549 - mean_iou: 0.502 - ETA: 31s - loss: 0.1515 - mean_iou: 0.503 - ETA: 30s - loss: 0.1551 - mean_iou: 0.503 - ETA: 29s - loss: 0.1506 - mean_iou: 0.503 - ETA: 29s - loss: 0.1513 - mean_iou: 0.503 - ETA: 28s - loss: 0.1482 - mean_iou: 0.504 - ETA: 28s - loss: 0.1475 - mean_iou: 0.504 - ETA: 27s - loss: 0.1456 - mean_iou: 0.504 - ETA: 26s - loss: 0.1456 - mean_iou: 0.504 - ETA: 26s - loss: 0.1470 - mean_iou: 0.505 - ETA: 25s - loss: 0.1461 - mean_iou: 0.505 - ETA: 25s - loss: 0.1420 - mean_iou: 0.505 - ETA: 24s - loss: 0.1432 - mean_iou: 0.505 - ETA: 24s - loss: 0.1406 - mean_iou: 0.506 - ETA: 23s - loss: 0.1391 - mean_iou: 0.506 - ETA: 23s - loss: 0.1391 - mean_iou: 0.506 - ETA: 22s - loss: 0.1392 - mean_iou: 0.506 - ETA: 22s - loss: 0.1399 - mean_iou: 0.506 - ETA: 21s - loss: 0.1377 - mean_iou: 0.507 - ETA: 21s - loss: 0.1363 - mean_iou: 0.507 - ETA: 20s - loss: 0.1379 - mean_iou: 0.507 - ETA: 19s - loss: 0.1379 - mean_iou: 0.507 - ETA: 19s - loss: 0.1398 - mean_iou: 0.508 - ETA: 18s - loss: 0.1409 - mean_iou: 0.508 - ETA: 18s - loss: 0.1414 - mean_iou: 0.508 - ETA: 17s - loss: 0.1400 - mean_iou: 0.509 - ETA: 17s - loss: 0.1413 - mean_iou: 0.509 - ETA: 16s - loss: 0.1401 - mean_iou: 0.509 - ETA: 15s - loss: 0.1393 - mean_iou: 0.509 - ETA: 15s - loss: 0.1388 - mean_iou: 0.510 - ETA: 14s - loss: 0.1380 - mean_iou: 0.510 - ETA: 14s - loss: 0.1370 - mean_iou: 0.510 - ETA: 13s - loss: 0.1364 - mean_iou: 0.510 - ETA: 13s - loss: 0.1363 - mean_iou: 0.511 - ETA: 12s - loss: 0.1359 - mean_iou: 0.511 - ETA: 11s - loss: 0.1363 - mean_iou: 0.511 - ETA: 11s - loss: 0.1376 - mean_iou: 0.511 - ETA: 10s - loss: 0.1374 - mean_iou: 0.512 - ETA: 10s - loss: 0.1367 - mean_iou: 0.512 - ETA: 9s - loss: 0.1372 - mean_iou: 0.512 - ETA: 8s - loss: 0.1363 - mean_iou: 0.51 - ETA: 8s - loss: 0.1351 - mean_iou: 0.51 - ETA: 7s - loss: 0.1366 - mean_iou: 0.51 - ETA: 7s - loss: 0.1363 - mean_iou: 0.51 - ETA: 6s - loss: 0.1369 - mean_iou: 0.51 - ETA: 6s - loss: 0.1362 - mean_iou: 0.51 - ETA: 5s - loss: 0.1364 - mean_iou: 0.51 - ETA: 5s - loss: 0.1361 - mean_iou: 0.51 - ETA: 4s - loss: 0.1362 - mean_iou: 0.51 - ETA: 3s - loss: 0.1355 - mean_iou: 0.51 - ETA: 3s - loss: 0.1350 - mean_iou: 0.51 - ETA: 2s - loss: 0.1344 - mean_iou: 0.51 - ETA: 2s - loss: 0.1345 - mean_iou: 0.51 - ETA: 1s - loss: 0.1340 - mean_iou: 0.51 - ETA: 1s - loss: 0.1340 - mean_iou: 0.51 - ETA: 0s - loss: 0.1340 - mean_iou: 0.5165\n",
      "Epoch 00006: val_loss improved from 0.14219 to 0.11730, saving model to model-dsbowl2018-1.h5\n",
      "536/536 [==============================] - 41s 77ms/step - loss: 0.1336 - mean_iou: 0.5168 - val_loss: 0.1173 - val_mean_iou: 0.5385\n",
      "Epoch 7/10\n"
     ]
    },
    {
     "name": "stdout",
     "output_type": "stream",
     "text": [
      "528/536 [============================>.] - ETA: 35s - loss: 0.1164 - mean_iou: 0.543 - ETA: 34s - loss: 0.1294 - mean_iou: 0.543 - ETA: 34s - loss: 0.1190 - mean_iou: 0.543 - ETA: 33s - loss: 0.1093 - mean_iou: 0.543 - ETA: 33s - loss: 0.1184 - mean_iou: 0.544 - ETA: 32s - loss: 0.1225 - mean_iou: 0.544 - ETA: 32s - loss: 0.1191 - mean_iou: 0.544 - ETA: 31s - loss: 0.1221 - mean_iou: 0.545 - ETA: 31s - loss: 0.1236 - mean_iou: 0.545 - ETA: 30s - loss: 0.1235 - mean_iou: 0.545 - ETA: 29s - loss: 0.1215 - mean_iou: 0.545 - ETA: 29s - loss: 0.1263 - mean_iou: 0.546 - ETA: 28s - loss: 0.1253 - mean_iou: 0.546 - ETA: 28s - loss: 0.1244 - mean_iou: 0.546 - ETA: 27s - loss: 0.1203 - mean_iou: 0.546 - ETA: 27s - loss: 0.1205 - mean_iou: 0.546 - ETA: 26s - loss: 0.1221 - mean_iou: 0.547 - ETA: 26s - loss: 0.1228 - mean_iou: 0.547 - ETA: 25s - loss: 0.1251 - mean_iou: 0.547 - ETA: 25s - loss: 0.1229 - mean_iou: 0.547 - ETA: 24s - loss: 0.1258 - mean_iou: 0.548 - ETA: 24s - loss: 0.1252 - mean_iou: 0.548 - ETA: 23s - loss: 0.1248 - mean_iou: 0.548 - ETA: 23s - loss: 0.1231 - mean_iou: 0.548 - ETA: 22s - loss: 0.1231 - mean_iou: 0.548 - ETA: 21s - loss: 0.1224 - mean_iou: 0.549 - ETA: 21s - loss: 0.1215 - mean_iou: 0.549 - ETA: 20s - loss: 0.1223 - mean_iou: 0.549 - ETA: 20s - loss: 0.1196 - mean_iou: 0.549 - ETA: 19s - loss: 0.1192 - mean_iou: 0.549 - ETA: 19s - loss: 0.1189 - mean_iou: 0.550 - ETA: 18s - loss: 0.1210 - mean_iou: 0.550 - ETA: 18s - loss: 0.1216 - mean_iou: 0.550 - ETA: 17s - loss: 0.1208 - mean_iou: 0.550 - ETA: 17s - loss: 0.1208 - mean_iou: 0.551 - ETA: 16s - loss: 0.1201 - mean_iou: 0.551 - ETA: 15s - loss: 0.1200 - mean_iou: 0.551 - ETA: 15s - loss: 0.1191 - mean_iou: 0.551 - ETA: 14s - loss: 0.1186 - mean_iou: 0.551 - ETA: 14s - loss: 0.1184 - mean_iou: 0.552 - ETA: 13s - loss: 0.1196 - mean_iou: 0.552 - ETA: 13s - loss: 0.1186 - mean_iou: 0.552 - ETA: 12s - loss: 0.1170 - mean_iou: 0.552 - ETA: 12s - loss: 0.1175 - mean_iou: 0.552 - ETA: 11s - loss: 0.1170 - mean_iou: 0.553 - ETA: 11s - loss: 0.1174 - mean_iou: 0.553 - ETA: 10s - loss: 0.1192 - mean_iou: 0.553 - ETA: 10s - loss: 0.1209 - mean_iou: 0.553 - ETA: 9s - loss: 0.1204 - mean_iou: 0.553 - ETA: 9s - loss: 0.1203 - mean_iou: 0.55 - ETA: 8s - loss: 0.1201 - mean_iou: 0.55 - ETA: 7s - loss: 0.1210 - mean_iou: 0.55 - ETA: 7s - loss: 0.1209 - mean_iou: 0.55 - ETA: 6s - loss: 0.1202 - mean_iou: 0.55 - ETA: 6s - loss: 0.1197 - mean_iou: 0.55 - ETA: 5s - loss: 0.1197 - mean_iou: 0.55 - ETA: 5s - loss: 0.1205 - mean_iou: 0.55 - ETA: 4s - loss: 0.1192 - mean_iou: 0.55 - ETA: 4s - loss: 0.1188 - mean_iou: 0.55 - ETA: 3s - loss: 0.1192 - mean_iou: 0.55 - ETA: 3s - loss: 0.1187 - mean_iou: 0.55 - ETA: 2s - loss: 0.1182 - mean_iou: 0.55 - ETA: 2s - loss: 0.1180 - mean_iou: 0.55 - ETA: 1s - loss: 0.1185 - mean_iou: 0.55 - ETA: 1s - loss: 0.1184 - mean_iou: 0.55 - ETA: 0s - loss: 0.1182 - mean_iou: 0.5570\n",
      "Epoch 00007: val_loss improved from 0.11730 to 0.10718, saving model to model-dsbowl2018-1.h5\n",
      "536/536 [==============================] - 40s 74ms/step - loss: 0.1185 - mean_iou: 0.5572 - val_loss: 0.1072 - val_mean_iou: 0.5740\n",
      "Epoch 8/10\n",
      "528/536 [============================>.] - ETA: 35s - loss: 0.0971 - mean_iou: 0.577 - ETA: 34s - loss: 0.0909 - mean_iou: 0.577 - ETA: 34s - loss: 0.0895 - mean_iou: 0.577 - ETA: 33s - loss: 0.0947 - mean_iou: 0.577 - ETA: 33s - loss: 0.0909 - mean_iou: 0.577 - ETA: 32s - loss: 0.1070 - mean_iou: 0.577 - ETA: 32s - loss: 0.1014 - mean_iou: 0.578 - ETA: 31s - loss: 0.1083 - mean_iou: 0.578 - ETA: 31s - loss: 0.1065 - mean_iou: 0.578 - ETA: 30s - loss: 0.1121 - mean_iou: 0.578 - ETA: 30s - loss: 0.1142 - mean_iou: 0.578 - ETA: 29s - loss: 0.1156 - mean_iou: 0.579 - ETA: 29s - loss: 0.1136 - mean_iou: 0.579 - ETA: 28s - loss: 0.1152 - mean_iou: 0.579 - ETA: 28s - loss: 0.1175 - mean_iou: 0.579 - ETA: 27s - loss: 0.1157 - mean_iou: 0.579 - ETA: 27s - loss: 0.1128 - mean_iou: 0.579 - ETA: 27s - loss: 0.1145 - mean_iou: 0.580 - ETA: 26s - loss: 0.1174 - mean_iou: 0.580 - ETA: 25s - loss: 0.1171 - mean_iou: 0.580 - ETA: 25s - loss: 0.1167 - mean_iou: 0.580 - ETA: 24s - loss: 0.1167 - mean_iou: 0.580 - ETA: 24s - loss: 0.1160 - mean_iou: 0.580 - ETA: 23s - loss: 0.1138 - mean_iou: 0.581 - ETA: 23s - loss: 0.1144 - mean_iou: 0.581 - ETA: 22s - loss: 0.1135 - mean_iou: 0.581 - ETA: 22s - loss: 0.1116 - mean_iou: 0.581 - ETA: 21s - loss: 0.1156 - mean_iou: 0.581 - ETA: 21s - loss: 0.1165 - mean_iou: 0.581 - ETA: 20s - loss: 0.1163 - mean_iou: 0.581 - ETA: 19s - loss: 0.1156 - mean_iou: 0.582 - ETA: 19s - loss: 0.1151 - mean_iou: 0.582 - ETA: 18s - loss: 0.1138 - mean_iou: 0.582 - ETA: 18s - loss: 0.1129 - mean_iou: 0.582 - ETA: 17s - loss: 0.1123 - mean_iou: 0.582 - ETA: 17s - loss: 0.1126 - mean_iou: 0.582 - ETA: 16s - loss: 0.1147 - mean_iou: 0.583 - ETA: 15s - loss: 0.1148 - mean_iou: 0.583 - ETA: 15s - loss: 0.1140 - mean_iou: 0.583 - ETA: 14s - loss: 0.1127 - mean_iou: 0.583 - ETA: 14s - loss: 0.1113 - mean_iou: 0.583 - ETA: 13s - loss: 0.1094 - mean_iou: 0.583 - ETA: 13s - loss: 0.1083 - mean_iou: 0.584 - ETA: 12s - loss: 0.1075 - mean_iou: 0.584 - ETA: 12s - loss: 0.1066 - mean_iou: 0.584 - ETA: 11s - loss: 0.1068 - mean_iou: 0.584 - ETA: 10s - loss: 0.1071 - mean_iou: 0.584 - ETA: 10s - loss: 0.1066 - mean_iou: 0.584 - ETA: 9s - loss: 0.1069 - mean_iou: 0.584 - ETA: 9s - loss: 0.1084 - mean_iou: 0.58 - ETA: 8s - loss: 0.1087 - mean_iou: 0.58 - ETA: 8s - loss: 0.1078 - mean_iou: 0.58 - ETA: 7s - loss: 0.1083 - mean_iou: 0.58 - ETA: 7s - loss: 0.1090 - mean_iou: 0.58 - ETA: 6s - loss: 0.1089 - mean_iou: 0.58 - ETA: 6s - loss: 0.1100 - mean_iou: 0.58 - ETA: 5s - loss: 0.1099 - mean_iou: 0.58 - ETA: 4s - loss: 0.1108 - mean_iou: 0.58 - ETA: 4s - loss: 0.1099 - mean_iou: 0.58 - ETA: 3s - loss: 0.1098 - mean_iou: 0.58 - ETA: 3s - loss: 0.1095 - mean_iou: 0.58 - ETA: 2s - loss: 0.1106 - mean_iou: 0.58 - ETA: 2s - loss: 0.1116 - mean_iou: 0.58 - ETA: 1s - loss: 0.1109 - mean_iou: 0.58 - ETA: 1s - loss: 0.1103 - mean_iou: 0.58 - ETA: 0s - loss: 0.1112 - mean_iou: 0.5876\n",
      "Epoch 00008: val_loss improved from 0.10718 to 0.09990, saving model to model-dsbowl2018-1.h5\n",
      "536/536 [==============================] - 42s 78ms/step - loss: 0.1120 - mean_iou: 0.5878 - val_loss: 0.0999 - val_mean_iou: 0.6019\n",
      "Epoch 9/10\n"
     ]
    },
    {
     "name": "stdout",
     "output_type": "stream",
     "text": [
      "528/536 [============================>.] - ETA: 38s - loss: 0.0859 - mean_iou: 0.604 - ETA: 38s - loss: 0.0713 - mean_iou: 0.604 - ETA: 38s - loss: 0.0754 - mean_iou: 0.605 - ETA: 37s - loss: 0.1054 - mean_iou: 0.605 - ETA: 36s - loss: 0.1282 - mean_iou: 0.605 - ETA: 35s - loss: 0.1155 - mean_iou: 0.605 - ETA: 34s - loss: 0.1136 - mean_iou: 0.605 - ETA: 34s - loss: 0.1233 - mean_iou: 0.605 - ETA: 33s - loss: 0.1268 - mean_iou: 0.605 - ETA: 32s - loss: 0.1265 - mean_iou: 0.606 - ETA: 31s - loss: 0.1292 - mean_iou: 0.606 - ETA: 31s - loss: 0.1249 - mean_iou: 0.606 - ETA: 31s - loss: 0.1242 - mean_iou: 0.606 - ETA: 30s - loss: 0.1197 - mean_iou: 0.606 - ETA: 29s - loss: 0.1189 - mean_iou: 0.606 - ETA: 28s - loss: 0.1160 - mean_iou: 0.606 - ETA: 28s - loss: 0.1164 - mean_iou: 0.607 - ETA: 27s - loss: 0.1124 - mean_iou: 0.607 - ETA: 27s - loss: 0.1103 - mean_iou: 0.607 - ETA: 26s - loss: 0.1072 - mean_iou: 0.607 - ETA: 25s - loss: 0.1046 - mean_iou: 0.607 - ETA: 25s - loss: 0.1048 - mean_iou: 0.607 - ETA: 24s - loss: 0.1065 - mean_iou: 0.607 - ETA: 24s - loss: 0.1058 - mean_iou: 0.608 - ETA: 23s - loss: 0.1041 - mean_iou: 0.608 - ETA: 23s - loss: 0.1033 - mean_iou: 0.608 - ETA: 22s - loss: 0.1039 - mean_iou: 0.608 - ETA: 22s - loss: 0.1039 - mean_iou: 0.608 - ETA: 21s - loss: 0.1048 - mean_iou: 0.608 - ETA: 20s - loss: 0.1073 - mean_iou: 0.608 - ETA: 20s - loss: 0.1075 - mean_iou: 0.609 - ETA: 19s - loss: 0.1074 - mean_iou: 0.609 - ETA: 19s - loss: 0.1075 - mean_iou: 0.609 - ETA: 18s - loss: 0.1071 - mean_iou: 0.609 - ETA: 17s - loss: 0.1071 - mean_iou: 0.609 - ETA: 17s - loss: 0.1068 - mean_iou: 0.609 - ETA: 16s - loss: 0.1061 - mean_iou: 0.610 - ETA: 16s - loss: 0.1063 - mean_iou: 0.610 - ETA: 15s - loss: 0.1050 - mean_iou: 0.610 - ETA: 15s - loss: 0.1054 - mean_iou: 0.610 - ETA: 14s - loss: 0.1052 - mean_iou: 0.610 - ETA: 13s - loss: 0.1046 - mean_iou: 0.610 - ETA: 13s - loss: 0.1047 - mean_iou: 0.610 - ETA: 12s - loss: 0.1040 - mean_iou: 0.610 - ETA: 12s - loss: 0.1043 - mean_iou: 0.611 - ETA: 11s - loss: 0.1047 - mean_iou: 0.611 - ETA: 11s - loss: 0.1040 - mean_iou: 0.611 - ETA: 10s - loss: 0.1065 - mean_iou: 0.611 - ETA: 9s - loss: 0.1060 - mean_iou: 0.611 - ETA: 9s - loss: 0.1059 - mean_iou: 0.61 - ETA: 8s - loss: 0.1054 - mean_iou: 0.61 - ETA: 8s - loss: 0.1071 - mean_iou: 0.61 - ETA: 7s - loss: 0.1068 - mean_iou: 0.61 - ETA: 7s - loss: 0.1070 - mean_iou: 0.61 - ETA: 6s - loss: 0.1070 - mean_iou: 0.61 - ETA: 6s - loss: 0.1066 - mean_iou: 0.61 - ETA: 5s - loss: 0.1060 - mean_iou: 0.61 - ETA: 4s - loss: 0.1067 - mean_iou: 0.61 - ETA: 4s - loss: 0.1076 - mean_iou: 0.61 - ETA: 3s - loss: 0.1074 - mean_iou: 0.61 - ETA: 3s - loss: 0.1070 - mean_iou: 0.61 - ETA: 2s - loss: 0.1065 - mean_iou: 0.61 - ETA: 2s - loss: 0.1072 - mean_iou: 0.61 - ETA: 1s - loss: 0.1071 - mean_iou: 0.61 - ETA: 1s - loss: 0.1078 - mean_iou: 0.61 - ETA: 0s - loss: 0.1077 - mean_iou: 0.6139\n",
      "Epoch 00009: val_loss did not improve\n",
      "536/536 [==============================] - 40s 75ms/step - loss: 0.1082 - mean_iou: 0.6140 - val_loss: 0.1040 - val_mean_iou: 0.6245\n",
      "Epoch 10/10\n",
      "528/536 [============================>.] - ETA: 34s - loss: 0.0969 - mean_iou: 0.626 - ETA: 34s - loss: 0.1223 - mean_iou: 0.626 - ETA: 33s - loss: 0.1211 - mean_iou: 0.626 - ETA: 34s - loss: 0.1057 - mean_iou: 0.626 - ETA: 33s - loss: 0.0989 - mean_iou: 0.626 - ETA: 32s - loss: 0.0937 - mean_iou: 0.626 - ETA: 32s - loss: 0.0981 - mean_iou: 0.626 - ETA: 31s - loss: 0.0966 - mean_iou: 0.627 - ETA: 31s - loss: 0.0957 - mean_iou: 0.627 - ETA: 30s - loss: 0.1015 - mean_iou: 0.627 - ETA: 30s - loss: 0.1006 - mean_iou: 0.627 - ETA: 29s - loss: 0.1014 - mean_iou: 0.627 - ETA: 29s - loss: 0.0992 - mean_iou: 0.627 - ETA: 28s - loss: 0.0996 - mean_iou: 0.627 - ETA: 28s - loss: 0.1002 - mean_iou: 0.627 - ETA: 27s - loss: 0.0987 - mean_iou: 0.627 - ETA: 26s - loss: 0.1001 - mean_iou: 0.628 - ETA: 26s - loss: 0.0980 - mean_iou: 0.628 - ETA: 25s - loss: 0.1003 - mean_iou: 0.628 - ETA: 25s - loss: 0.1020 - mean_iou: 0.628 - ETA: 24s - loss: 0.1018 - mean_iou: 0.628 - ETA: 24s - loss: 0.1037 - mean_iou: 0.628 - ETA: 23s - loss: 0.1020 - mean_iou: 0.628 - ETA: 22s - loss: 0.1012 - mean_iou: 0.629 - ETA: 22s - loss: 0.1006 - mean_iou: 0.629 - ETA: 21s - loss: 0.1007 - mean_iou: 0.629 - ETA: 21s - loss: 0.1020 - mean_iou: 0.629 - ETA: 20s - loss: 0.1042 - mean_iou: 0.629 - ETA: 20s - loss: 0.1049 - mean_iou: 0.629 - ETA: 19s - loss: 0.1064 - mean_iou: 0.629 - ETA: 19s - loss: 0.1065 - mean_iou: 0.629 - ETA: 18s - loss: 0.1063 - mean_iou: 0.630 - ETA: 17s - loss: 0.1055 - mean_iou: 0.630 - ETA: 17s - loss: 0.1061 - mean_iou: 0.630 - ETA: 16s - loss: 0.1059 - mean_iou: 0.630 - ETA: 16s - loss: 0.1051 - mean_iou: 0.630 - ETA: 15s - loss: 0.1054 - mean_iou: 0.630 - ETA: 15s - loss: 0.1041 - mean_iou: 0.630 - ETA: 14s - loss: 0.1036 - mean_iou: 0.630 - ETA: 14s - loss: 0.1026 - mean_iou: 0.630 - ETA: 13s - loss: 0.1040 - mean_iou: 0.631 - ETA: 13s - loss: 0.1031 - mean_iou: 0.631 - ETA: 12s - loss: 0.1033 - mean_iou: 0.631 - ETA: 12s - loss: 0.1031 - mean_iou: 0.631 - ETA: 11s - loss: 0.1022 - mean_iou: 0.631 - ETA: 11s - loss: 0.1011 - mean_iou: 0.631 - ETA: 10s - loss: 0.1013 - mean_iou: 0.631 - ETA: 10s - loss: 0.1017 - mean_iou: 0.631 - ETA: 9s - loss: 0.1019 - mean_iou: 0.631 - ETA: 8s - loss: 0.1016 - mean_iou: 0.63 - ETA: 8s - loss: 0.1018 - mean_iou: 0.63 - ETA: 7s - loss: 0.1016 - mean_iou: 0.63 - ETA: 7s - loss: 0.1009 - mean_iou: 0.63 - ETA: 6s - loss: 0.1003 - mean_iou: 0.63 - ETA: 6s - loss: 0.1008 - mean_iou: 0.63 - ETA: 5s - loss: 0.1005 - mean_iou: 0.63 - ETA: 5s - loss: 0.1000 - mean_iou: 0.63 - ETA: 4s - loss: 0.1007 - mean_iou: 0.63 - ETA: 4s - loss: 0.1000 - mean_iou: 0.63 - ETA: 3s - loss: 0.1003 - mean_iou: 0.63 - ETA: 3s - loss: 0.1006 - mean_iou: 0.63 - ETA: 2s - loss: 0.1013 - mean_iou: 0.63 - ETA: 2s - loss: 0.1008 - mean_iou: 0.63 - ETA: 1s - loss: 0.1006 - mean_iou: 0.63 - ETA: 1s - loss: 0.1004 - mean_iou: 0.63 - ETA: 0s - loss: 0.1002 - mean_iou: 0.6338\n",
      "Epoch 00010: val_loss improved from 0.09990 to 0.09564, saving model to model-dsbowl2018-1.h5\n",
      "536/536 [==============================] - 39s 73ms/step - loss: 0.1009 - mean_iou: 0.6340 - val_loss: 0.0956 - val_mean_iou: 0.6433\n",
      "603/603 [==============================] - ETA: 18 - ETA: 15 - ETA: 13 - ETA: 12 - ETA: 11 - ETA: 10 - ETA: 9 - ETA:  - ETA:  - ETA:  - ETA:  - ETA:  - ETA:  - ETA:  - ETA:  - ETA:  - ETA:  - ETA:  - 15s 25ms/step\n",
      "67/67 [==============================] - ETA:  - ETA:  - 2s 25ms/step\n",
      "65/65 [==============================] - ETA:  - ETA:  - 2s 23ms/step\n"
     ]
    }
   ],
   "source": [
    "\n",
    "# Fit model\n",
    "earlystopper = EarlyStopping(patience=5, verbose=1)\n",
    "checkpointer = ModelCheckpoint('model-dsbowl2018-1.h5', verbose=1, save_best_only=True)\n",
    "results = model.fit(X_train, Y_train, validation_split=0.2, batch_size=8, epochs=10, \n",
    "                    callbacks=[earlystopper, checkpointer])\n",
    "                    \n",
    "                    \n",
    "# Predict on train, val and test\n",
    "model = load_model('model-dsbowl2018-1.h5', custom_objects={'mean_iou': mean_iou})\n",
    "preds_train = model.predict(X_train[:int(X_train.shape[0]*0.9)], verbose=1)\n",
    "preds_val = model.predict(X_train[int(X_train.shape[0]*0.9):], verbose=1)\n",
    "preds_test = model.predict(X_test, verbose=1)\n",
    "\n",
    "# Threshold predictions\n",
    "preds_train_t = (preds_train > 0.5).astype(np.uint8)\n",
    "preds_val_t = (preds_val > 0.5).astype(np.uint8)\n",
    "preds_test_t = (preds_test > 0.5).astype(np.uint8)\n",
    "\n",
    "# Create list of upsampled test masks\n",
    "preds_test_upsampled = []\n",
    "for i in range(len(preds_test)):\n",
    "    preds_test_upsampled.append(resize(np.squeeze(preds_test[i]), \n",
    "                                       (sizes_test[i][0], sizes_test[i][1]), \n",
    "                                       mode='constant', preserve_range=True))\n"
   ]
  },
  {
   "cell_type": "code",
   "execution_count": 8,
   "metadata": {
    "collapsed": true
   },
   "outputs": [],
   "source": [
    "# Run-length encoding stolen from https://www.kaggle.com/rakhlin/fast-run-length-encoding-python\n",
    "def rle_encoding(x):\n",
    "    dots = np.where(x.T.flatten() == 1)[0]\n",
    "    run_lengths = []\n",
    "    prev = -2\n",
    "    for b in dots:\n",
    "        if (b>prev+1): run_lengths.extend((b + 1, 0))\n",
    "        run_lengths[-1] += 1\n",
    "        prev = b\n",
    "    return run_lengths\n",
    "\n",
    "def prob_to_rles(x, cutoff=0.5):\n",
    "    lab_img = label(x > cutoff)\n",
    "    for i in range(1, lab_img.max() + 1):\n",
    "        yield rle_encoding(lab_img == i)\n",
    "        "
   ]
  },
  {
   "cell_type": "code",
   "execution_count": 9,
   "metadata": {
    "collapsed": true
   },
   "outputs": [],
   "source": [
    "\n",
    "new_test_ids = []\n",
    "rles = []\n",
    "for n, id_ in enumerate(test_ids):\n",
    "    rle = list(prob_to_rles(preds_test_upsampled[n]))\n",
    "    rles.extend(rle)\n",
    "    new_test_ids.extend([id_] * len(rle))\n",
    "    \n",
    "    \n",
    "# Create submission DataFrame\n",
    "sub = pd.DataFrame()\n",
    "sub['ImageId'] = new_test_ids\n",
    "sub['EncodedPixels'] = pd.Series(rles).apply(lambda x: ' '.join(str(y) for y in x))\n",
    "sub.to_csv('sub-dsbowl2018-2.csv', index=False)"
   ]
  },
  {
   "cell_type": "code",
   "execution_count": 10,
   "metadata": {},
   "outputs": [
    {
     "data": {
      "text/html": [
       "<div>\n",
       "<style>\n",
       "    .dataframe thead tr:only-child th {\n",
       "        text-align: right;\n",
       "    }\n",
       "\n",
       "    .dataframe thead th {\n",
       "        text-align: left;\n",
       "    }\n",
       "\n",
       "    .dataframe tbody tr th {\n",
       "        vertical-align: top;\n",
       "    }\n",
       "</style>\n",
       "<table border=\"1\" class=\"dataframe\">\n",
       "  <thead>\n",
       "    <tr style=\"text-align: right;\">\n",
       "      <th></th>\n",
       "      <th>ImageId</th>\n",
       "      <th>EncodedPixels</th>\n",
       "    </tr>\n",
       "  </thead>\n",
       "  <tbody>\n",
       "    <tr>\n",
       "      <th>0</th>\n",
       "      <td>0114f484a16c152baa2d82fdd43740880a762c93f436c8...</td>\n",
       "      <td>44595 2 44848 9 45101 14 45357 14 45612 16 458...</td>\n",
       "    </tr>\n",
       "    <tr>\n",
       "      <th>1</th>\n",
       "      <td>0114f484a16c152baa2d82fdd43740880a762c93f436c8...</td>\n",
       "      <td>27992 3 28247 5 28502 6 28759 5 29016 3</td>\n",
       "    </tr>\n",
       "    <tr>\n",
       "      <th>2</th>\n",
       "      <td>0114f484a16c152baa2d82fdd43740880a762c93f436c8...</td>\n",
       "      <td>49769 5 50023 9 50276 13 50531 15 50786 17 510...</td>\n",
       "    </tr>\n",
       "    <tr>\n",
       "      <th>3</th>\n",
       "      <td>0114f484a16c152baa2d82fdd43740880a762c93f436c8...</td>\n",
       "      <td>10637 5 10890 10 11144 12 11399 14 11654 15 11...</td>\n",
       "    </tr>\n",
       "    <tr>\n",
       "      <th>4</th>\n",
       "      <td>0114f484a16c152baa2d82fdd43740880a762c93f436c8...</td>\n",
       "      <td>30876 6 31130 9 31374 22 31628 24 31882 26 321...</td>\n",
       "    </tr>\n",
       "  </tbody>\n",
       "</table>\n",
       "</div>"
      ],
      "text/plain": [
       "                                             ImageId  \\\n",
       "0  0114f484a16c152baa2d82fdd43740880a762c93f436c8...   \n",
       "1  0114f484a16c152baa2d82fdd43740880a762c93f436c8...   \n",
       "2  0114f484a16c152baa2d82fdd43740880a762c93f436c8...   \n",
       "3  0114f484a16c152baa2d82fdd43740880a762c93f436c8...   \n",
       "4  0114f484a16c152baa2d82fdd43740880a762c93f436c8...   \n",
       "\n",
       "                                       EncodedPixels  \n",
       "0  44595 2 44848 9 45101 14 45357 14 45612 16 458...  \n",
       "1            27992 3 28247 5 28502 6 28759 5 29016 3  \n",
       "2  49769 5 50023 9 50276 13 50531 15 50786 17 510...  \n",
       "3  10637 5 10890 10 11144 12 11399 14 11654 15 11...  \n",
       "4  30876 6 31130 9 31374 22 31628 24 31882 26 321...  "
      ]
     },
     "execution_count": 10,
     "metadata": {},
     "output_type": "execute_result"
    }
   ],
   "source": [
    "sub.head()"
   ]
  },
  {
   "cell_type": "code",
   "execution_count": null,
   "metadata": {
    "collapsed": true
   },
   "outputs": [],
   "source": []
  }
 ],
 "metadata": {
  "anaconda-cloud": {},
  "kernelspec": {
   "display_name": "Python 3",
   "language": "python",
   "name": "python3"
  },
  "language_info": {
   "codemirror_mode": {
    "name": "ipython",
    "version": 3
   },
   "file_extension": ".py",
   "mimetype": "text/x-python",
   "name": "python",
   "nbconvert_exporter": "python",
   "pygments_lexer": "ipython3",
   "version": "3.6.3"
  }
 },
 "nbformat": 4,
 "nbformat_minor": 1
}
